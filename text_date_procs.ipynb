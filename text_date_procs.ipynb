{
 "cells": [
  {
   "cell_type": "code",
   "execution_count": 3,
   "metadata": {},
   "outputs": [],
   "source": [
    "import os\n",
    "import numpy as np\n",
    "import pandas as pd\n",
    "import logging\n",
    "from tqdm import tqdm\n",
    "from datetime import datetime\n",
    "import time"
   ]
  },
  {
   "cell_type": "code",
   "execution_count": 4,
   "metadata": {},
   "outputs": [],
   "source": [
    "datapath = './数据/股评_HS300_with_year/'\n",
    "textpath = './数据/股评_HS300_handled/text/'\n",
    "usrpath = './数据/股评_HS300_handled/username/'\n",
    "dtpath = './数据/股评_HS300_handled/update_time/'\n",
    "def get_list(datapath, outpath):\n",
    "    # 获取待处理的list\n",
    "    try:\n",
    "        datalist = os.listdir(datapath)\n",
    "        donelist = os.listdir(outpath)\n",
    "        tohandle_list = [x for x in datalist if x not in donelist]\n",
    "        return tohandle_list\n",
    "    except:\n",
    "        return False"
   ]
  },
  {
   "cell_type": "code",
   "execution_count": 5,
   "metadata": {},
   "outputs": [],
   "source": [
    "tohandle_list = get_list(datapath, textpath)"
   ]
  },
  {
   "cell_type": "code",
   "execution_count": 6,
   "metadata": {},
   "outputs": [],
   "source": [
    "tohandle_list1 = tohandle_list[:2]\n",
    "tohandle_list2 = tohandle_list[3:]\n",
    "tohandle_list = tohandle_list1 + tohandle_list2"
   ]
  },
  {
   "cell_type": "code",
   "execution_count": 7,
   "metadata": {},
   "outputs": [
    {
     "data": {
      "text/plain": [
       "['000333.csv', '000413.csv', '000629.csv', '000671.csv']"
      ]
     },
     "execution_count": 7,
     "metadata": {},
     "output_type": "execute_result"
    }
   ],
   "source": [
    "tohandle_list"
   ]
  },
  {
   "cell_type": "code",
   "execution_count": 8,
   "metadata": {},
   "outputs": [],
   "source": [
    "def text_preprocess(tohandle):\n",
    "    datapath = './数据/股评_HS300_with_year/'\n",
    "    textpath = './数据/股评_HS300_handled/text/'\n",
    "    usrpath = './数据/股评_HS300_handled/username/'\n",
    "    dtpath = './数据/股评_HS300_handled/update_time/'\n",
    "    try:\n",
    "        df = pd.read_csv(os.path.join(datapath,tohandle))\n",
    "        # 处理时间\n",
    "        df[\"update_time\"] = df[\"update_time\"].apply(lambda x: '20'+ x[5:] if len(x) > 16 else x)\n",
    "        df[\"update_time\"] = df[\"update_time\"].apply(lambda x: 'd'+ x if int(x[2:4]) > 23 else x)\n",
    "        df = df[~ df[\"update_time\"].str.contains(\"d\")]\n",
    "        # 将标题和内容合并\n",
    "        df[\"title\"].fillna('', inplace=True)\n",
    "        df[\"content\"].fillna('', inplace=True)\n",
    "        df[\"text\"] = df[\"title\"].str.cat(df[\"content\"])\n",
    "        df = df[[\"username\", \"update_time\", \"text\"]].copy()\n",
    "        # 删除df[\"cont\"]里美元符号及之间的内容\n",
    "        df[\"text\"] = df[\"text\"].str.replace(r'\\$.*?\\$', '', regex=True)\n",
    "        df = df[~ df[\"text\"].str.contains(\"东方财富APP\")]\n",
    "        df = df[df[\"text\"].str.len() > 2]\n",
    "        # 保存\n",
    "        text_df = pd.DataFrame(df[\"text\"])\n",
    "        text_df.to_csv(os.path.join(textpath,tohandle),index=False, encoding =\"utf-8-sig\")\n",
    "\n",
    "        urs_df = pd.DataFrame(df[\"username\"])\n",
    "        urs_df.to_csv(os.path.join(usrpath,tohandle),index=False)\n",
    "        dt_df = pd.DataFrame(df[\"update_time\"])\n",
    "        dt_df.to_csv(os.path.join(dtpath,tohandle),index=False)\n",
    "        del df, text_df, urs_df, dt_df\n",
    "    except:\n",
    "        return False\n"
   ]
  },
  {
   "cell_type": "code",
   "execution_count": 9,
   "metadata": {},
   "outputs": [
    {
     "name": "stderr",
     "output_type": "stream",
     "text": [
      "100%|██████████| 4/4 [00:10<00:00,  2.50s/it]"
     ]
    },
    {
     "name": "stdout",
     "output_type": "stream",
     "text": [
      "处理完成\n"
     ]
    },
    {
     "name": "stderr",
     "output_type": "stream",
     "text": [
      "\n"
     ]
    }
   ],
   "source": [
    "\n",
    "if tohandle_list != False or tohandle_list != []:\n",
    "    for i in tqdm(range(len(tohandle_list))):\n",
    "        text_preprocess(tohandle_list[i])\n",
    "    print(\"处理完成\")"
   ]
  },
  {
   "cell_type": "code",
   "execution_count": null,
   "metadata": {},
   "outputs": [],
   "source": []
  }
 ],
 "metadata": {
  "kernelspec": {
   "display_name": "base",
   "language": "python",
   "name": "python3"
  },
  "language_info": {
   "codemirror_mode": {
    "name": "ipython",
    "version": 3
   },
   "file_extension": ".py",
   "mimetype": "text/x-python",
   "name": "python",
   "nbconvert_exporter": "python",
   "pygments_lexer": "ipython3",
   "version": "3.9.18"
  }
 },
 "nbformat": 4,
 "nbformat_minor": 2
}
