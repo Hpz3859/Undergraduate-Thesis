{
 "cells": [
  {
   "cell_type": "code",
   "execution_count": null,
   "metadata": {
    "collapsed": true,
    "execution": {
     "iopub.execute_input": "2024-03-19T07:44:54.411518Z",
     "iopub.status.busy": "2024-03-19T07:44:54.411006Z",
     "iopub.status.idle": "2024-03-19T07:45:02.114541Z",
     "shell.execute_reply": "2024-03-19T07:45:02.113771Z",
     "shell.execute_reply.started": "2024-03-19T07:44:54.411476Z"
    },
    "jupyter": {
     "outputs_hidden": true
    },
    "tags": []
   },
   "outputs": [],
   "source": [
    "!pip3 install optuna\n",
    "!pip3 install transformers"
   ]
  },
  {
   "cell_type": "code",
   "execution_count": 1,
   "metadata": {
    "execution": {
     "iopub.execute_input": "2024-03-19T08:54:51.112179Z",
     "iopub.status.busy": "2024-03-19T08:54:51.111749Z",
     "iopub.status.idle": "2024-03-19T08:54:52.758675Z",
     "shell.execute_reply": "2024-03-19T08:54:52.758086Z",
     "shell.execute_reply.started": "2024-03-19T08:54:51.112138Z"
    },
    "tags": []
   },
   "outputs": [],
   "source": [
    "import os\n",
    "import numpy as np\n",
    "import pandas as pd\n",
    "from tqdm import tqdm\n",
    "import logging\n",
    "import torch\n",
    "import torch.nn as nn\n",
    "import torch.nn.functional as F\n",
    "import torch.optim as optim\n",
    "from torch.utils.data import DataLoader, TensorDataset\n",
    "from sklearn.datasets import load_digits\n",
    "from sklearn.model_selection import train_test_split\n",
    "import optuna"
   ]
  },
  {
   "cell_type": "code",
   "execution_count": 2,
   "metadata": {
    "execution": {
     "iopub.execute_input": "2024-03-19T08:54:54.146269Z",
     "iopub.status.busy": "2024-03-19T08:54:54.145918Z",
     "iopub.status.idle": "2024-03-19T08:54:54.850562Z",
     "shell.execute_reply": "2024-03-19T08:54:54.849652Z",
     "shell.execute_reply.started": "2024-03-19T08:54:54.146250Z"
    },
    "tags": []
   },
   "outputs": [],
   "source": [
    "import transformers\n",
    "from transformers import BertTokenizer\n",
    "token = BertTokenizer.from_pretrained('bert-base-chinese')"
   ]
  },
  {
   "cell_type": "code",
   "execution_count": 3,
   "metadata": {
    "execution": {
     "iopub.execute_input": "2024-03-19T08:54:56.947859Z",
     "iopub.status.busy": "2024-03-19T08:54:56.947548Z",
     "iopub.status.idle": "2024-03-19T08:54:56.951695Z",
     "shell.execute_reply": "2024-03-19T08:54:56.951245Z",
     "shell.execute_reply.started": "2024-03-19T08:54:56.947839Z"
    },
    "tags": []
   },
   "outputs": [],
   "source": [
    "textpath = '/openbayes/input/input0/text'\n",
    "outpath = '/openbayes/input/input0/text_encoded'\n",
    "def get_list(datapath, outpath):\n",
    "    # 获取待处理的list\n",
    "    try:\n",
    "        datalist = os.listdir(datapath)\n",
    "        donelist = os.listdir(outpath)\n",
    "        tohandle_list = [x for x in datalist if x not in donelist]\n",
    "        tohandle_list = [x for x in tohandle_list if x[-4:] == '.csv']\n",
    "        return tohandle_list, donelist\n",
    "    except:\n",
    "        return False"
   ]
  },
  {
   "cell_type": "code",
   "execution_count": 4,
   "metadata": {
    "execution": {
     "iopub.execute_input": "2024-03-19T08:54:58.206905Z",
     "iopub.status.busy": "2024-03-19T08:54:58.206453Z",
     "iopub.status.idle": "2024-03-19T08:54:58.218072Z",
     "shell.execute_reply": "2024-03-19T08:54:58.217006Z",
     "shell.execute_reply.started": "2024-03-19T08:54:58.206866Z"
    },
    "tags": []
   },
   "outputs": [],
   "source": [
    "tohandle_list, donelist = get_list(textpath, outpath)"
   ]
  },
  {
   "cell_type": "code",
   "execution_count": 5,
   "metadata": {
    "execution": {
     "iopub.execute_input": "2024-03-19T08:54:59.001724Z",
     "iopub.status.busy": "2024-03-19T08:54:59.001258Z",
     "iopub.status.idle": "2024-03-19T08:54:59.012155Z",
     "shell.execute_reply": "2024-03-19T08:54:59.011299Z",
     "shell.execute_reply.started": "2024-03-19T08:54:59.001683Z"
    },
    "tags": []
   },
   "outputs": [
    {
     "data": {
      "text/plain": [
       "80"
      ]
     },
     "execution_count": 5,
     "metadata": {},
     "output_type": "execute_result"
    }
   ],
   "source": [
    "print(len(tohandle_list), len(donelist))"
   ]
  },
  {
   "cell_type": "code",
   "execution_count": 7,
   "metadata": {
    "execution": {
     "iopub.execute_input": "2024-03-19T08:55:42.833067Z",
     "iopub.status.busy": "2024-03-19T08:55:42.832708Z",
     "iopub.status.idle": "2024-03-19T08:55:42.904680Z",
     "shell.execute_reply": "2024-03-19T08:55:42.903800Z",
     "shell.execute_reply.started": "2024-03-19T08:55:42.833044Z"
    },
    "tags": []
   },
   "outputs": [],
   "source": [
    "import torch\n",
    "from transformers import BertModel\n",
    "\n",
    "class MLP(nn.Module):\n",
    "    def __init__(self, input_size, hidden_layer_sizes, output_size):\n",
    "        super(MLP, self).__init__()\n",
    "        # 初始化权重\n",
    "        self.initializer = nn.init.kaiming_normal_\n",
    "        layers = [nn.Linear(input_size, hidden_layer_sizes[0])]  # 第一个隐藏层\n",
    "        # 添加ReLU激活函数\n",
    "        layers.append(nn.ReLU())\n",
    "        # 添加更多的隐藏层\n",
    "        for i in range(1, len(hidden_layer_sizes)):\n",
    "            layers.append(nn.Linear(hidden_layer_sizes[i-1], hidden_layer_sizes[i]))\n",
    "            layers.append(nn.ReLU())\n",
    "        # 最后一个隐藏层到输出层\n",
    "        layers.append(nn.Linear(hidden_layer_sizes[-1], output_size))\n",
    "        self.model = nn.Sequential(*layers)\n",
    "\n",
    "    def forward(self, x):\n",
    "        return self.model(x)\n",
    "    \n",
    "    def initialize_weights(self):\n",
    "        for m in self.modules():\n",
    "            if isinstance(m, nn.Linear):\n",
    "                self.initializer(m.weight)\n",
    "                if m.bias is not None:\n",
    "                    nn.init.zeros_(m.bias)\n",
    "\n",
    "class CommentBertEncode(object):\n",
    "    def __init__(self, textpath, outpath, stockname, num=500):\n",
    "        self.outpath = outpath\n",
    "        self.textpath = textpath\n",
    "        self.stockname = stockname\n",
    "        self.logger = None\n",
    "        self.token = BertTokenizer.from_pretrained('bert-base-chinese')\n",
    "        self.device = 'cpu'\n",
    "        if torch.cuda.is_available():\n",
    "            self.device = 'cuda'\n",
    "        self.num = num\n",
    "\n",
    "    def logger_config(self, log_path, logging_name):\n",
    "        '''\n",
    "        配置log\n",
    "        :param log_path: 输出log路径\n",
    "        :param logging_name: 记录中name，可随意\n",
    "        :return:\n",
    "        '''\n",
    "        '''\n",
    "        logger是日志对象，handler是流处理器，console是控制台输出（没有console也可以，将不会在控制台输出，会在日志文件中输出）\n",
    "        '''\n",
    "        # 获取logger对象,取名\n",
    "        logger = logging.getLogger(logging_name)\n",
    "        # 输出DEBUG及以上级别的信息，针对所有输出的第一层过滤\n",
    "        logger.setLevel(level=logging.DEBUG)\n",
    "        if not logger.handlers:\n",
    "            # 获取文件日志句柄并设置日志级别，第二层过滤\n",
    "            handler = logging.FileHandler(log_path, encoding='UTF-8')\n",
    "            handler.setLevel(logging.INFO)\n",
    "            # 生成并设置文件日志格式\n",
    "            formatter = logging.Formatter('%(message)s - %(levelname)s - %(asctime)s - %(name)s')\n",
    "            handler.setFormatter(formatter)\n",
    "            # 为logger对象添加句柄\n",
    "            logger.addHandler(handler)\n",
    "            # logger.addHandler(console)\n",
    "        return logger\n",
    "\n",
    "    \n",
    "        \n",
    "    def get_text(self):\n",
    "        # 获取文本\n",
    "        text_df = pd.read_csv(os.path.join(self.textpath,self.stockname))\n",
    "        text_l = text_df['text'].tolist()\n",
    "        \n",
    "        return text_l\n",
    "    \n",
    "    def collate_fn(self, data):\n",
    "        #编码\n",
    "        datas = self.token.batch_encode_plus(batch_text_or_text_pairs=data,\n",
    "                                       truncation=True,\n",
    "                                       padding='max_length',\n",
    "                                       max_length=100,\n",
    "                                       return_tensors='pt',\n",
    "                                       return_length=True)\n",
    "\n",
    "        #input_ids:编码之后的数字\n",
    "        #attention_mask:是补零的位置是0,其他位置是1\n",
    "        input_ids = datas['input_ids']\n",
    "        attention_mask = datas['attention_mask']\n",
    "        token_type_ids = datas['token_type_ids']\n",
    "\n",
    "        return input_ids, attention_mask, token_type_ids\n",
    "    \n",
    "    def encode_text(self, input_ids, attention_mask, token_type_ids):\n",
    "        num = self.num\n",
    "        device = self.device\n",
    "        input_size = 768  # 输入特征维度\n",
    "        hidden_layer_sizes = [188, 158, 79]  # 假设有3个隐藏层\n",
    "        output_size = 2  # 假设是2分类问题\n",
    "        learning_rate = 0.00020148404515308536\n",
    "        optimizer =\"Adam\"\n",
    "        # 创建一个新的模型实例\n",
    "        new_model = MLP(input_size, hidden_layer_sizes, output_size)\n",
    "        # 加载状态字典\n",
    "        new_model.load_state_dict(torch.load('best_model_state_dict.pth'))\n",
    "        # 确保模型在相同的设备上\n",
    "        new_model.to(device)\n",
    "        new_model.eval()\n",
    "\n",
    "        for i in range(0, len(input_ids), num):\n",
    "            # 加载预训练模型\n",
    "            pretrained = BertModel.from_pretrained('bert-base-chinese')\n",
    "            # 不训练预训练模型,不需要计算梯度\n",
    "            for param in pretrained.parameters():\n",
    "                param.requires_grad_(False)\n",
    "            pretrained.to(device)\n",
    "            \n",
    "            if len(input_ids) - i > num:\n",
    "                input_ids1 = input_ids[i:i+num].to(device)\n",
    "                attention_mask1 = attention_mask[i:i+num].to(device)\n",
    "                token_type_ids1 = token_type_ids[i:i+num].to(device)\n",
    "            else:\n",
    "                input_ids1 = input_ids[i:].to(device)\n",
    "                attention_mask1 = attention_mask[i:].to(device)\n",
    "                token_type_ids1 = token_type_ids[i:].to(device)\n",
    "            out = pretrained(input_ids1, attention_mask1, token_type_ids1)\n",
    "            out = out.last_hidden_state[:, 0].cpu().detach().numpy().tolist()\n",
    "            \n",
    "            X_tensor = torch.tensor(out, dtype=torch.float32)\n",
    "            predictions = new_model(X_tensor.to(device))\n",
    "            # predictions = new_model(X_tensor.to(device)).argmax(dim=1).cpu().tolist()\n",
    "            # 使用 softmax 获取概率分布\n",
    "            probabilities = F.softmax(predictions, dim=1).cpu().tolist()\n",
    "            if i == 0:\n",
    "                prob = probabilities\n",
    "            else:     \n",
    "                prob.extend(probabilities)\n",
    "            # input_ids1.cpu() \n",
    "            # attention_mask1.cpu() \n",
    "            # token_type_ids1.cpu()\n",
    "            # pretrained.cpu()\n",
    "            del input_ids1, attention_mask1, token_type_ids1, out, pretrained\n",
    "            torch.cuda.empty_cache()\n",
    "            allocated_memory = torch.cuda.memory_allocated()\n",
    "            cached_memory = torch.cuda.memory_reserved()\n",
    "            # print(f\"已分配的GPU内存：{allocated_memory}, 已缓存的GPU内存：{cached_memory}\")\n",
    "        print(np.shape(prob))\n",
    "        return prob\n",
    "        \n",
    "    def save_data(self, out):\n",
    "        try:\n",
    "            np.savetxt(os.path.join(self.outpath, self.stockname), out, delimiter=\",\")\n",
    "            return True   \n",
    "        except:\n",
    "            return False\n",
    "\n",
    "    def RunStart(self):\n",
    "        self.logger = self.logger_config(log_path=os.path.join(self.outpath, 'log.txt'), logging_name='hpz')\n",
    "        text = self.get_text()\n",
    "        if text == []:\n",
    "            self.logger.error(f\"{self.stockname}读取失败!\")\n",
    "            return\n",
    "        self.logger.info(f\"{self.stockname}开始处理!\")\n",
    "        try:\n",
    "            input_ids, attention_mask, token_type_ids = self.collate_fn(text) \n",
    "        except:\n",
    "            self.logger.error(f\"{self.stockname}初编码失败!\")\n",
    "            return\n",
    "        self.logger.info(f\"{self.stockname}初编码完成!\")\n",
    "        try:\n",
    "            out = self.encode_text(input_ids, attention_mask, token_type_ids)\n",
    "        except:\n",
    "            self.logger.error(f\"{self.stockname}编码失败!\")\n",
    "            return\n",
    "        self.logger.info(f\"{self.stockname}编码完成!\")\n",
    "        if self.save_data(out):\n",
    "            self.logger.info(f\"{self.stockname}处理完成!\")\n",
    "        else:\n",
    "            self.logger.info(f\"{self.stockname}处理失败!\")\n",
    "        del input_ids, attention_mask, token_type_ids, out\n",
    "        logging.shutdown()\n",
    "        return"
   ]
  },
  {
   "cell_type": "code",
   "execution_count": 8,
   "metadata": {
    "execution": {
     "iopub.execute_input": "2024-03-19T08:55:50.650898Z",
     "iopub.status.busy": "2024-03-19T08:55:50.650647Z",
     "iopub.status.idle": "2024-03-19T14:08:21.020722Z",
     "shell.execute_reply": "2024-03-19T14:08:21.020239Z",
     "shell.execute_reply.started": "2024-03-19T08:55:50.650879Z"
    },
    "scrolled": true,
    "tags": []
   },
   "outputs": [
    {
     "name": "stderr",
     "output_type": "stream",
     "text": [
      "  0%|          | 0/80 [00:00<?, ?it/s]"
     ]
    },
    {
     "name": "stdout",
     "output_type": "stream",
     "text": [
      "(206331, 2)\n"
     ]
    },
    {
     "name": "stderr",
     "output_type": "stream",
     "text": [
      "  1%|▏         | 1/80 [04:02<5:19:35, 242.72s/it]"
     ]
    },
    {
     "name": "stdout",
     "output_type": "stream",
     "text": [
      "(385843, 2)\n"
     ]
    },
    {
     "name": "stderr",
     "output_type": "stream",
     "text": [
      "  2%|▎         | 2/80 [11:31<7:52:55, 363.78s/it]"
     ]
    },
    {
     "name": "stdout",
     "output_type": "stream",
     "text": [
      "(116237, 2)\n"
     ]
    },
    {
     "name": "stderr",
     "output_type": "stream",
     "text": [
      "  4%|▍         | 3/80 [13:52<5:36:22, 262.11s/it]"
     ]
    },
    {
     "name": "stdout",
     "output_type": "stream",
     "text": [
      "(372223, 2)\n"
     ]
    },
    {
     "name": "stderr",
     "output_type": "stream",
     "text": [
      "  5%|▌         | 4/80 [20:48<6:49:13, 323.07s/it]"
     ]
    },
    {
     "name": "stdout",
     "output_type": "stream",
     "text": [
      "(439621, 2)\n"
     ]
    },
    {
     "name": "stderr",
     "output_type": "stream",
     "text": [
      "  6%|▋         | 5/80 [29:03<8:01:14, 385.00s/it]"
     ]
    },
    {
     "name": "stdout",
     "output_type": "stream",
     "text": [
      "(165102, 2)\n"
     ]
    },
    {
     "name": "stderr",
     "output_type": "stream",
     "text": [
      "  8%|▊         | 6/80 [32:15<6:33:56, 319.42s/it]"
     ]
    },
    {
     "name": "stdout",
     "output_type": "stream",
     "text": [
      "(106554, 2)\n"
     ]
    },
    {
     "name": "stderr",
     "output_type": "stream",
     "text": [
      "  9%|▉         | 7/80 [34:16<5:09:27, 254.35s/it]"
     ]
    },
    {
     "name": "stdout",
     "output_type": "stream",
     "text": [
      "(134945, 2)\n"
     ]
    },
    {
     "name": "stderr",
     "output_type": "stream",
     "text": [
      " 10%|█         | 8/80 [36:50<4:27:03, 222.55s/it]"
     ]
    },
    {
     "name": "stdout",
     "output_type": "stream",
     "text": [
      "(416861, 2)\n"
     ]
    },
    {
     "name": "stderr",
     "output_type": "stream",
     "text": [
      " 11%|█▏        | 9/80 [44:34<5:52:28, 297.86s/it]"
     ]
    },
    {
     "name": "stdout",
     "output_type": "stream",
     "text": [
      "(408890, 2)\n"
     ]
    },
    {
     "name": "stderr",
     "output_type": "stream",
     "text": [
      " 12%|█▎        | 10/80 [52:11<6:44:56, 347.09s/it]"
     ]
    },
    {
     "name": "stdout",
     "output_type": "stream",
     "text": [
      "(633387, 2)\n"
     ]
    },
    {
     "name": "stderr",
     "output_type": "stream",
     "text": [
      " 14%|█▍        | 11/80 [1:04:02<8:47:12, 458.44s/it]"
     ]
    },
    {
     "name": "stdout",
     "output_type": "stream",
     "text": [
      "(369209, 2)\n"
     ]
    },
    {
     "name": "stderr",
     "output_type": "stream",
     "text": [
      " 15%|█▌        | 12/80 [1:10:55<8:23:55, 444.64s/it]"
     ]
    },
    {
     "name": "stdout",
     "output_type": "stream",
     "text": [
      "(280677, 2)\n"
     ]
    },
    {
     "name": "stderr",
     "output_type": "stream",
     "text": [
      " 18%|█▊        | 14/80 [1:17:08<5:30:00, 300.00s/it]"
     ]
    },
    {
     "name": "stdout",
     "output_type": "stream",
     "text": [
      "(42675, 2)\n",
      "(149327, 2)\n"
     ]
    },
    {
     "name": "stderr",
     "output_type": "stream",
     "text": [
      " 19%|█▉        | 15/80 [1:19:58<4:42:26, 260.71s/it]"
     ]
    },
    {
     "name": "stdout",
     "output_type": "stream",
     "text": [
      "(138365, 2)\n"
     ]
    },
    {
     "name": "stderr",
     "output_type": "stream",
     "text": [
      " 20%|██        | 16/80 [1:22:41<4:06:41, 231.28s/it]"
     ]
    },
    {
     "name": "stdout",
     "output_type": "stream",
     "text": [
      "(99715, 2)\n"
     ]
    },
    {
     "name": "stderr",
     "output_type": "stream",
     "text": [
      " 21%|██▏       | 17/80 [1:24:38<3:26:52, 197.03s/it]"
     ]
    },
    {
     "name": "stdout",
     "output_type": "stream",
     "text": [
      "(216892, 2)\n"
     ]
    },
    {
     "name": "stderr",
     "output_type": "stream",
     "text": [
      " 22%|██▎       | 18/80 [1:28:45<3:38:55, 211.86s/it]"
     ]
    },
    {
     "name": "stdout",
     "output_type": "stream",
     "text": [
      "(86041, 2)\n"
     ]
    },
    {
     "name": "stderr",
     "output_type": "stream",
     "text": [
      " 24%|██▍       | 19/80 [1:30:23<3:00:33, 177.60s/it]"
     ]
    },
    {
     "name": "stdout",
     "output_type": "stream",
     "text": [
      "(392470, 2)\n"
     ]
    },
    {
     "name": "stderr",
     "output_type": "stream",
     "text": [
      " 25%|██▌       | 20/80 [1:38:00<4:21:29, 261.49s/it]"
     ]
    },
    {
     "name": "stdout",
     "output_type": "stream",
     "text": [
      "(165060, 2)\n"
     ]
    },
    {
     "name": "stderr",
     "output_type": "stream",
     "text": [
      " 26%|██▋       | 21/80 [1:41:11<3:56:22, 240.38s/it]"
     ]
    },
    {
     "name": "stdout",
     "output_type": "stream",
     "text": [
      "(181074, 2)\n"
     ]
    },
    {
     "name": "stderr",
     "output_type": "stream",
     "text": [
      " 28%|██▊       | 22/80 [1:44:34<3:41:30, 229.15s/it]"
     ]
    },
    {
     "name": "stdout",
     "output_type": "stream",
     "text": [
      "(158455, 2)\n"
     ]
    },
    {
     "name": "stderr",
     "output_type": "stream",
     "text": [
      " 29%|██▉       | 23/80 [1:47:31<3:22:48, 213.48s/it]"
     ]
    },
    {
     "name": "stdout",
     "output_type": "stream",
     "text": [
      "(184909, 2)\n"
     ]
    },
    {
     "name": "stderr",
     "output_type": "stream",
     "text": [
      " 30%|███       | 24/80 [1:51:00<3:18:09, 212.31s/it]"
     ]
    },
    {
     "name": "stdout",
     "output_type": "stream",
     "text": [
      "(154999, 2)\n"
     ]
    },
    {
     "name": "stderr",
     "output_type": "stream",
     "text": [
      " 31%|███▏      | 25/80 [1:53:56<3:04:37, 201.41s/it]"
     ]
    },
    {
     "name": "stdout",
     "output_type": "stream",
     "text": [
      "(262476, 2)\n"
     ]
    },
    {
     "name": "stderr",
     "output_type": "stream",
     "text": [
      " 32%|███▎      | 26/80 [1:58:51<3:26:34, 229.52s/it]"
     ]
    },
    {
     "name": "stdout",
     "output_type": "stream",
     "text": [
      "(76108, 2)\n"
     ]
    },
    {
     "name": "stderr",
     "output_type": "stream",
     "text": [
      " 34%|███▍      | 27/80 [2:00:34<2:49:06, 191.44s/it]"
     ]
    },
    {
     "name": "stdout",
     "output_type": "stream",
     "text": [
      "(393848, 2)\n"
     ]
    },
    {
     "name": "stderr",
     "output_type": "stream",
     "text": [
      " 35%|███▌      | 28/80 [2:08:10<3:54:46, 270.90s/it]"
     ]
    },
    {
     "name": "stdout",
     "output_type": "stream",
     "text": [
      "(119767, 2)\n"
     ]
    },
    {
     "name": "stderr",
     "output_type": "stream",
     "text": [
      " 36%|███▋      | 29/80 [2:10:29<3:16:37, 231.33s/it]"
     ]
    },
    {
     "name": "stdout",
     "output_type": "stream",
     "text": [
      "(79896, 2)\n"
     ]
    },
    {
     "name": "stderr",
     "output_type": "stream",
     "text": [
      " 38%|███▊      | 30/80 [2:12:03<2:38:22, 190.04s/it]"
     ]
    },
    {
     "name": "stdout",
     "output_type": "stream",
     "text": [
      "(255575, 2)\n"
     ]
    },
    {
     "name": "stderr",
     "output_type": "stream",
     "text": [
      " 39%|███▉      | 31/80 [2:16:58<3:00:54, 221.51s/it]"
     ]
    },
    {
     "name": "stdout",
     "output_type": "stream",
     "text": [
      "(762238, 2)\n"
     ]
    },
    {
     "name": "stderr",
     "output_type": "stream",
     "text": [
      " 40%|████      | 32/80 [2:31:57<5:39:43, 424.65s/it]"
     ]
    },
    {
     "name": "stdout",
     "output_type": "stream",
     "text": [
      "(88906, 2)\n"
     ]
    },
    {
     "name": "stderr",
     "output_type": "stream",
     "text": [
      " 41%|████▏     | 33/80 [2:33:42<4:17:31, 328.77s/it]"
     ]
    },
    {
     "name": "stdout",
     "output_type": "stream",
     "text": [
      "(87220, 2)\n"
     ]
    },
    {
     "name": "stderr",
     "output_type": "stream",
     "text": [
      " 42%|████▎     | 34/80 [2:35:30<3:21:26, 262.75s/it]"
     ]
    },
    {
     "name": "stdout",
     "output_type": "stream",
     "text": [
      "(137416, 2)\n"
     ]
    },
    {
     "name": "stderr",
     "output_type": "stream",
     "text": [
      " 44%|████▍     | 35/80 [2:38:07<2:53:10, 230.91s/it]"
     ]
    },
    {
     "name": "stdout",
     "output_type": "stream",
     "text": [
      "(156976, 2)\n"
     ]
    },
    {
     "name": "stderr",
     "output_type": "stream",
     "text": [
      " 45%|████▌     | 36/80 [2:41:07<2:38:10, 215.70s/it]"
     ]
    },
    {
     "name": "stdout",
     "output_type": "stream",
     "text": [
      "(219522, 2)\n"
     ]
    },
    {
     "name": "stderr",
     "output_type": "stream",
     "text": [
      " 46%|████▋     | 37/80 [2:45:14<2:41:17, 225.07s/it]"
     ]
    },
    {
     "name": "stdout",
     "output_type": "stream",
     "text": [
      "(152449, 2)\n"
     ]
    },
    {
     "name": "stderr",
     "output_type": "stream",
     "text": [
      " 48%|████▊     | 38/80 [2:48:05<2:26:07, 208.75s/it]"
     ]
    },
    {
     "name": "stdout",
     "output_type": "stream",
     "text": [
      "(60780, 2)\n"
     ]
    },
    {
     "name": "stderr",
     "output_type": "stream",
     "text": [
      " 49%|████▉     | 39/80 [2:49:17<1:54:42, 167.87s/it]"
     ]
    },
    {
     "name": "stdout",
     "output_type": "stream",
     "text": [
      "(92077, 2)\n"
     ]
    },
    {
     "name": "stderr",
     "output_type": "stream",
     "text": [
      " 50%|█████     | 40/80 [2:51:03<1:39:25, 149.15s/it]"
     ]
    },
    {
     "name": "stdout",
     "output_type": "stream",
     "text": [
      "(175606, 2)\n"
     ]
    },
    {
     "name": "stderr",
     "output_type": "stream",
     "text": [
      " 51%|█████▏    | 41/80 [2:54:20<1:46:24, 163.70s/it]"
     ]
    },
    {
     "name": "stdout",
     "output_type": "stream",
     "text": [
      "(99934, 2)\n"
     ]
    },
    {
     "name": "stderr",
     "output_type": "stream",
     "text": [
      " 52%|█████▎    | 42/80 [2:56:15<1:34:23, 149.03s/it]"
     ]
    },
    {
     "name": "stdout",
     "output_type": "stream",
     "text": [
      "(128826, 2)\n"
     ]
    },
    {
     "name": "stderr",
     "output_type": "stream",
     "text": [
      " 54%|█████▍    | 43/80 [2:58:45<1:32:08, 149.41s/it]"
     ]
    },
    {
     "name": "stdout",
     "output_type": "stream",
     "text": [
      "(94643, 2)\n"
     ]
    },
    {
     "name": "stderr",
     "output_type": "stream",
     "text": [
      " 55%|█████▌    | 44/80 [3:00:33<1:22:04, 136.80s/it]"
     ]
    },
    {
     "name": "stdout",
     "output_type": "stream",
     "text": [
      "(80008, 2)\n"
     ]
    },
    {
     "name": "stderr",
     "output_type": "stream",
     "text": [
      " 56%|█████▋    | 45/80 [3:02:06<1:12:15, 123.86s/it]"
     ]
    },
    {
     "name": "stdout",
     "output_type": "stream",
     "text": [
      "(338522, 2)\n"
     ]
    },
    {
     "name": "stderr",
     "output_type": "stream",
     "text": [
      " 57%|█████▊    | 46/80 [3:09:01<1:59:39, 211.16s/it]"
     ]
    },
    {
     "name": "stdout",
     "output_type": "stream",
     "text": [
      "(97941, 2)\n"
     ]
    },
    {
     "name": "stderr",
     "output_type": "stream",
     "text": [
      " 59%|█████▉    | 47/80 [3:10:52<1:39:34, 181.04s/it]"
     ]
    },
    {
     "name": "stdout",
     "output_type": "stream",
     "text": [
      "(262911, 2)\n"
     ]
    },
    {
     "name": "stderr",
     "output_type": "stream",
     "text": [
      " 60%|██████    | 48/80 [3:15:56<1:56:14, 217.95s/it]"
     ]
    },
    {
     "name": "stdout",
     "output_type": "stream",
     "text": [
      "(289716, 2)\n"
     ]
    },
    {
     "name": "stderr",
     "output_type": "stream",
     "text": [
      " 61%|██████▏   | 49/80 [3:21:29<2:10:24, 252.42s/it]"
     ]
    },
    {
     "name": "stdout",
     "output_type": "stream",
     "text": [
      "(151030, 2)\n"
     ]
    },
    {
     "name": "stderr",
     "output_type": "stream",
     "text": [
      " 62%|██████▎   | 50/80 [3:24:21<1:54:08, 228.29s/it]"
     ]
    },
    {
     "name": "stdout",
     "output_type": "stream",
     "text": [
      "(151459, 2)\n"
     ]
    },
    {
     "name": "stderr",
     "output_type": "stream",
     "text": [
      " 64%|██████▍   | 51/80 [3:27:14<1:42:15, 211.57s/it]"
     ]
    },
    {
     "name": "stdout",
     "output_type": "stream",
     "text": [
      "(647776, 2)\n"
     ]
    },
    {
     "name": "stderr",
     "output_type": "stream",
     "text": [
      " 65%|██████▌   | 52/80 [3:39:45<2:54:22, 373.68s/it]"
     ]
    },
    {
     "name": "stdout",
     "output_type": "stream",
     "text": [
      "(621710, 2)\n"
     ]
    },
    {
     "name": "stderr",
     "output_type": "stream",
     "text": [
      " 66%|██████▋   | 53/80 [3:51:35<3:33:30, 474.45s/it]"
     ]
    },
    {
     "name": "stdout",
     "output_type": "stream",
     "text": [
      "(211615, 2)\n"
     ]
    },
    {
     "name": "stderr",
     "output_type": "stream",
     "text": [
      " 68%|██████▊   | 54/80 [3:55:35<2:55:08, 404.18s/it]"
     ]
    },
    {
     "name": "stdout",
     "output_type": "stream",
     "text": [
      "(115705, 2)\n"
     ]
    },
    {
     "name": "stderr",
     "output_type": "stream",
     "text": [
      " 69%|██████▉   | 55/80 [3:57:53<2:15:04, 324.16s/it]"
     ]
    },
    {
     "name": "stdout",
     "output_type": "stream",
     "text": [
      "(111848, 2)\n"
     ]
    },
    {
     "name": "stderr",
     "output_type": "stream",
     "text": [
      " 70%|███████   | 56/80 [4:00:04<1:46:27, 266.16s/it]"
     ]
    },
    {
     "name": "stdout",
     "output_type": "stream",
     "text": [
      "(95169, 2)\n"
     ]
    },
    {
     "name": "stderr",
     "output_type": "stream",
     "text": [
      " 71%|███████▏  | 57/80 [4:01:52<1:23:53, 218.85s/it]"
     ]
    },
    {
     "name": "stdout",
     "output_type": "stream",
     "text": [
      "(240126, 2)\n"
     ]
    },
    {
     "name": "stderr",
     "output_type": "stream",
     "text": [
      " 72%|███████▎  | 58/80 [4:06:22<1:25:51, 234.17s/it]"
     ]
    },
    {
     "name": "stdout",
     "output_type": "stream",
     "text": [
      "(130912, 2)\n"
     ]
    },
    {
     "name": "stderr",
     "output_type": "stream",
     "text": [
      " 74%|███████▍  | 59/80 [4:08:51<1:13:02, 208.69s/it]"
     ]
    },
    {
     "name": "stdout",
     "output_type": "stream",
     "text": [
      "(83293, 2)\n"
     ]
    },
    {
     "name": "stderr",
     "output_type": "stream",
     "text": [
      " 75%|███████▌  | 60/80 [4:10:31<58:39, 175.96s/it]  "
     ]
    },
    {
     "name": "stdout",
     "output_type": "stream",
     "text": [
      "(108419, 2)\n"
     ]
    },
    {
     "name": "stderr",
     "output_type": "stream",
     "text": [
      " 76%|███████▋  | 61/80 [4:12:48<52:00, 164.22s/it]"
     ]
    },
    {
     "name": "stdout",
     "output_type": "stream",
     "text": [
      "(181737, 2)\n"
     ]
    },
    {
     "name": "stderr",
     "output_type": "stream",
     "text": [
      " 78%|███████▊  | 62/80 [4:16:27<54:14, 180.78s/it]"
     ]
    },
    {
     "name": "stdout",
     "output_type": "stream",
     "text": [
      "(187054, 2)\n"
     ]
    },
    {
     "name": "stderr",
     "output_type": "stream",
     "text": [
      " 79%|███████▉  | 63/80 [4:20:12<55:00, 194.16s/it]"
     ]
    },
    {
     "name": "stdout",
     "output_type": "stream",
     "text": [
      "(150260, 2)\n"
     ]
    },
    {
     "name": "stderr",
     "output_type": "stream",
     "text": [
      " 80%|████████  | 64/80 [4:23:13<50:43, 190.23s/it]"
     ]
    },
    {
     "name": "stdout",
     "output_type": "stream",
     "text": [
      "(103757, 2)\n"
     ]
    },
    {
     "name": "stderr",
     "output_type": "stream",
     "text": [
      " 81%|████████▏ | 65/80 [4:25:25<43:10, 172.71s/it]"
     ]
    },
    {
     "name": "stdout",
     "output_type": "stream",
     "text": [
      "(115211, 2)\n"
     ]
    },
    {
     "name": "stderr",
     "output_type": "stream",
     "text": [
      " 82%|████████▎ | 66/80 [4:27:48<38:10, 163.64s/it]"
     ]
    },
    {
     "name": "stdout",
     "output_type": "stream",
     "text": [
      "(64278, 2)\n"
     ]
    },
    {
     "name": "stderr",
     "output_type": "stream",
     "text": [
      " 84%|████████▍ | 67/80 [4:29:05<29:48, 137.59s/it]"
     ]
    },
    {
     "name": "stdout",
     "output_type": "stream",
     "text": [
      "(159496, 2)\n"
     ]
    },
    {
     "name": "stderr",
     "output_type": "stream",
     "text": [
      " 85%|████████▌ | 68/80 [4:32:17<30:49, 154.13s/it]"
     ]
    },
    {
     "name": "stdout",
     "output_type": "stream",
     "text": [
      "(92141, 2)\n"
     ]
    },
    {
     "name": "stderr",
     "output_type": "stream",
     "text": [
      " 86%|████████▋ | 69/80 [4:34:13<26:09, 142.67s/it]"
     ]
    },
    {
     "name": "stdout",
     "output_type": "stream",
     "text": [
      "(246029, 2)\n"
     ]
    },
    {
     "name": "stderr",
     "output_type": "stream",
     "text": [
      " 88%|████████▊ | 70/80 [4:39:18<31:54, 191.45s/it]"
     ]
    },
    {
     "name": "stdout",
     "output_type": "stream",
     "text": [
      "(164589, 2)\n"
     ]
    },
    {
     "name": "stderr",
     "output_type": "stream",
     "text": [
      " 89%|████████▉ | 71/80 [4:42:42<29:15, 195.04s/it]"
     ]
    },
    {
     "name": "stdout",
     "output_type": "stream",
     "text": [
      "(619102, 2)\n"
     ]
    },
    {
     "name": "stderr",
     "output_type": "stream",
     "text": [
      " 90%|█████████ | 72/80 [4:56:18<50:50, 381.26s/it]"
     ]
    },
    {
     "name": "stdout",
     "output_type": "stream",
     "text": [
      "(177380, 2)\n"
     ]
    },
    {
     "name": "stderr",
     "output_type": "stream",
     "text": [
      " 92%|█████████▎| 74/80 [5:00:54<25:02, 250.48s/it]"
     ]
    },
    {
     "name": "stdout",
     "output_type": "stream",
     "text": [
      "(54526, 2)\n",
      "(151700, 2)\n"
     ]
    },
    {
     "name": "stderr",
     "output_type": "stream",
     "text": [
      " 95%|█████████▌| 76/80 [5:05:15<12:17, 184.45s/it]"
     ]
    },
    {
     "name": "stdout",
     "output_type": "stream",
     "text": [
      "(65470, 2)\n",
      "(98794, 2)\n"
     ]
    },
    {
     "name": "stderr",
     "output_type": "stream",
     "text": [
      " 96%|█████████▋| 77/80 [5:07:11<08:11, 163.96s/it]"
     ]
    },
    {
     "name": "stdout",
     "output_type": "stream",
     "text": [
      "(138572, 2)\n"
     ]
    },
    {
     "name": "stderr",
     "output_type": "stream",
     "text": [
      " 99%|█████████▉| 79/80 [5:11:05<02:16, 136.42s/it]"
     ]
    },
    {
     "name": "stdout",
     "output_type": "stream",
     "text": [
      "(62842, 2)\n",
      "(71140, 2)\n"
     ]
    },
    {
     "name": "stderr",
     "output_type": "stream",
     "text": [
      "100%|██████████| 80/80 [5:12:30<00:00, 234.38s/it]\n"
     ]
    }
   ],
   "source": [
    "for stockname in tqdm(tohandle_list):\n",
    "    encode = CommentBertEncode(textpath, outpath, stockname, num=2800)\n",
    "    encode.RunStart()\n",
    "    del encode"
   ]
  },
  {
   "cell_type": "code",
   "execution_count": null,
   "metadata": {},
   "outputs": [],
   "source": []
  },
  {
   "cell_type": "code",
   "execution_count": null,
   "metadata": {},
   "outputs": [],
   "source": []
  }
 ],
 "metadata": {
  "kernelspec": {
   "display_name": "Python 3 (ipykernel)",
   "language": "python",
   "name": "python3"
  },
  "language_info": {
   "codemirror_mode": {
    "name": "ipython",
    "version": 3
   },
   "file_extension": ".py",
   "mimetype": "text/x-python",
   "name": "python",
   "nbconvert_exporter": "python",
   "pygments_lexer": "ipython3",
   "version": "3.9.18"
  }
 },
 "nbformat": 4,
 "nbformat_minor": 4
}
